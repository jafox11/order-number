{
  "nbformat": 4,
  "nbformat_minor": 0,
  "metadata": {
    "colab": {
      "name": "acyclic_orderings.ipynb",
      "provenance": []
    },
    "kernelspec": {
      "name": "python3",
      "display_name": "Python 3"
    },
    "language_info": {
      "name": "python"
    }
  },
  "cells": [
    {
      "cell_type": "markdown",
      "source": [
        "The purpose of this notebook is to carry out the calculation in Theorem 5.2 for the order number of the DAG $(G,W,\\theta)$ defined at the beginning of Section 5."
      ],
      "metadata": {
        "id": "LNM6utZmgsx0"
      }
    },
    {
      "cell_type": "code",
      "source": [
        "\"\"\"\n",
        "We will enter a DAG manually by specifying its incidence matrix. A \"1\" in row \n",
        "i / column j means that there is a directed edge from vertex j to vertex i.\n",
        "\n",
        "The input \"n\" is the number of vertices in the graph, and the output \"A\" is the \n",
        "incidence matrix.\n",
        "\"\"\"\n",
        "\n",
        "def graph_entry(n):\n",
        "  import numpy as np\n",
        "  A = np.zeros((n, n), dtype = int)\n",
        "  while True:\n",
        "    citation = input(\"Enter row-column separated by space. Enter s to stop.\")\n",
        "    if citation == 's':\n",
        "      break\n",
        "    else:\n",
        "      citation = [int(x) for x in citation.split(' ')]\n",
        "      A[citation[0] - 1, citation[1] - 1] = 1\n",
        "  return(A)"
      ],
      "metadata": {
        "id": "kzbCXXQHiUGi"
      },
      "execution_count": 99,
      "outputs": []
    },
    {
      "cell_type": "code",
      "source": [
        "\"\"\"\n",
        "An implementation of Algorithm 1 in Section 2. The input \"A\" is the incidence \n",
        "matrix of our DAG, and the output \"count\" is the number of acyclic orderings, \n",
        "i.e., the order number, of the DAG.  This is a very slow algorithm.\n",
        "\"\"\"\n",
        "\n",
        "def order_number(A):\n",
        "  import numpy as np\n",
        "  count = 0\n",
        "  if np.shape(A)[0] == 1:\n",
        "    count = 1\n",
        "  else:\n",
        "    for i in range(0, np.shape(A)[0]):\n",
        "      if np.all(A[i] == 0):\n",
        "        B = np.delete(A, i, axis = 0)\n",
        "        C = np.delete(B, i, axis = 1)\n",
        "        count = count + order_number(C)\n",
        "  return count"
      ],
      "metadata": {
        "id": "8l7y71cgkxdx"
      },
      "execution_count": 100,
      "outputs": []
    },
    {
      "cell_type": "code",
      "source": [
        "\"\"\"\n",
        "We can now verify the order number of the DAG at the end of Section 2.\n",
        "\"\"\"\n",
        "\n",
        "G = graph_entry(15)\n",
        "order_number(G)\n"
      ],
      "metadata": {
        "id": "cfAo7VvtmBH6",
        "colab": {
          "base_uri": "https://localhost:8080/"
        },
        "outputId": "508699dd-af27-4ef9-a784-0214bed624de"
      },
      "execution_count": null,
      "outputs": [
        {
          "name": "stdout",
          "output_type": "stream",
          "text": [
            "Enter row-column separated by space. Enter s to stop.4 1\n",
            "Enter row-column separated by space. Enter s to stop.5 1\n",
            "Enter row-column separated by space. Enter s to stop.5 2\n",
            "Enter row-column separated by space. Enter s to stop.6 3\n",
            "Enter row-column separated by space. Enter s to stop.7 3\n",
            "Enter row-column separated by space. Enter s to stop.8 3\n",
            "Enter row-column separated by space. Enter s to stop.9 4\n",
            "Enter row-column separated by space. Enter s to stop.9 1\n",
            "Enter row-column separated by space. Enter s to stop.9 5\n",
            "Enter row-column separated by space. Enter s to stop.10 2\n",
            "Enter row-column separated by space. Enter s to stop.10 6\n",
            "Enter row-column separated by space. Enter s to stop.11 7\n",
            "Enter row-column separated by space. Enter s to stop.11 8\n",
            "Enter row-column separated by space. Enter s to stop.12 8\n",
            "Enter row-column separated by space. Enter s to stop.13 9\n",
            "Enter row-column separated by space. Enter s to stop.14 9\n",
            "Enter row-column separated by space. Enter s to stop.14 10\n",
            "Enter row-column separated by space. Enter s to stop.15 10\n",
            "Enter row-column separated by space. Enter s to stop.s\n"
          ]
        },
        {
          "output_type": "execute_result",
          "data": {
            "text/plain": [
              "8241100"
            ]
          },
          "metadata": {},
          "execution_count": 3
        }
      ]
    },
    {
      "cell_type": "code",
      "source": [
        "\"\"\"\n",
        "The order number of a tree can be computed directly using Theorem 4.2.  The \n",
        "following is an implementation of this theorem.\n",
        "\"\"\"\n",
        "\n",
        "\"\"\"\n",
        "The input \"T\" of `branch_nums` is the incidence matrix of a tree.  The output \n",
        "\"B\" is matrix with a \"1\" in row i / column j if vertex i is a descendant of \n",
        "vertex j, and a \"0\" otherwise.  This function is used by `ord_num_tree` below.  \n",
        "It makes use of Lemma 4.4.\n",
        "\"\"\"\n",
        "\n",
        "def branch_nums(T):\n",
        "  import numpy as np\n",
        "  from numpy.linalg import matrix_power\n",
        "  n = len(T)\n",
        "  B = np.zeros((n, n), dtype = int)\n",
        "  i = 1\n",
        "  while True:\n",
        "    B = B + matrix_power(T, i)\n",
        "    i += 1\n",
        "    if np.all(matrix_power(T, i) == np.zeros((n, n))):\n",
        "      break\n",
        "  return(B)\n",
        "\n",
        "\"\"\"\n",
        "`ord_num_tree` takes the incidence matrix \"T\" of a tree as input and returns the \n",
        "tree's order number.  The output \"B\" of `branch_nums` is used to compute the \n",
        "branch numbers needed by Theorem 4.2.\n",
        "\"\"\"\n",
        "\n",
        "def ord_num_tree(T):\n",
        "  import numpy as np\n",
        "  from math import factorial\n",
        "  n = len(T)\n",
        "  S = T.copy()\n",
        "  B = branch_nums(S)\n",
        "  for i in range(0, n):\n",
        "    for j in range(0, n):\n",
        "      if S[j, i] == 1:\n",
        "        S[j,i] = S[j,i] + np.sum(B[:, j])\n",
        "  D = np.zeros((n, n), dtype = int)\n",
        "  for k in range(0, n):\n",
        "    for l in range(0, n):\n",
        "      D[l, k] = factorial(S[l, k])\n",
        "  count = 1\n",
        "  for p in range(0, n):\n",
        "    count = count * factorial(np.sum(S[:, p])) / np.product(D[:, p])\n",
        "  return round(count) # `round` fixes the floating point error"
      ],
      "metadata": {
        "id": "LvM81rwfm2mU"
      },
      "execution_count": 101,
      "outputs": []
    },
    {
      "cell_type": "code",
      "source": [
        "\"\"\"\n",
        "We can now verify Example 4.3.\n",
        "\"\"\"\n",
        "\n",
        "T = graph_entry(10)\n",
        "ord_num_tree(T)"
      ],
      "metadata": {
        "id": "uHIf8tugoz1w",
        "colab": {
          "base_uri": "https://localhost:8080/"
        },
        "outputId": "bcfe0b31-ca20-48c4-a16e-84c4dc9651c3"
      },
      "execution_count": null,
      "outputs": [
        {
          "name": "stdout",
          "output_type": "stream",
          "text": [
            "Enter row-column separated by space. Enter s to stop.2 1\n",
            "Enter row-column separated by space. Enter s to stop.3 1\n",
            "Enter row-column separated by space. Enter s to stop.4 2\n",
            "Enter row-column separated by space. Enter s to stop.5 2\n",
            "Enter row-column separated by space. Enter s to stop.6 3\n",
            "Enter row-column separated by space. Enter s to stop.7 3\n",
            "Enter row-column separated by space. Enter s to stop.8 3\n",
            "Enter row-column separated by space. Enter s to stop.9 7\n",
            "Enter row-column separated by space. Enter s to stop.10 7\n",
            "Enter row-column separated by space. Enter s to stop.s\n"
          ]
        },
        {
          "output_type": "execute_result",
          "data": {
            "text/plain": [
              "6720"
            ]
          },
          "metadata": {},
          "execution_count": 5
        }
      ]
    },
    {
      "cell_type": "code",
      "source": [
        "\"\"\"\n",
        "To implement Theorem 5.2, we need a few preliminary functions.\n",
        "\"\"\"\n",
        "\n",
        "\"\"\"\n",
        "`delete` performs an operation needed by `all_seqs`.  \"x\" and \"a_pos_seqs\" \n",
        "are lists, and \"m\" and \"i\" are positive integers.\n",
        "\"\"\"\n",
        "\n",
        "def delete(x, m, i, a_pos_seqs):\n",
        "  if len(x) == m:\n",
        "    A_list = x\n",
        "    a_pos_seqs += [A_list]\n",
        "  else:\n",
        "    for j in range(i, len(x)):\n",
        "      A_list = delete(x[0:j] + x[j + 1: len(x)], m, j, a_pos_seqs)\n",
        "  return(a_pos_seqs)\n",
        "\n",
        "  \"\"\"\n",
        "  `all_seqs` takes in non-negative integers \"m\" and \"n\" and returns \n",
        "  \"ab_seqs\", which is a list of the m + n choose n sequences of m 0's and \n",
        "  n 1's.  It is used by `formula` below.\n",
        "  \"\"\"\n",
        "\n",
        "def all_seqs(m, n):\n",
        "  ab_seqs = []\n",
        "  a_seqs = delete(list(range(1, m + 1)), n, 0, [])\n",
        "  for x in a_seqs:\n",
        "    AB_list = [0]*m\n",
        "    for i in range(1, m + 1):\n",
        "      if i in x:\n",
        "        AB_list[i - 1] = 0\n",
        "      else:\n",
        "        AB_list[i - 1] = 1\n",
        "    ab_seqs += [AB_list]\n",
        "  return(ab_seqs)\n",
        "\n",
        "  \"\"\"\n",
        "  `all_seqs_2` accepts the output list from `all_seqs` as the input \"seqs_list\" \n",
        "  as well as \"left\" and \"right\", which are lists of lists of incidence \n",
        "  matrices of trees.  It returns a list of lists \"H\" of non-negative integers.  \n",
        "  It is used by `formula` below to obtain the sequences of cardinalities of \n",
        "  the trees attached to the left and right branches of G.\n",
        "  \"\"\"\n",
        "\n",
        "def all_seqs_2(seqs_list, left, right):\n",
        "  import numpy as np\n",
        "  n = len(left) + len(right)\n",
        "  H = np.zeros((len(seqs_list), n), dtype = int)\n",
        "  for seq in seqs_list:\n",
        "    row = seqs_list.index(seq)\n",
        "    lk = 0\n",
        "    rk = 0\n",
        "    for j in range(0, len(seq)):\n",
        "      if seq[j] == 0:\n",
        "        H[row, j] = sum([len(S) for S in left[lk]])\n",
        "        lk += 1\n",
        "      else:\n",
        "        H[row, j] = sum([len(S) for S in right[rk]])\n",
        "        rk += 1\n",
        "  return(H)\n",
        "\n",
        "\"\"\"\n",
        "`seq_mults` accepts a list \"s\" of integers and returns their product \"pr\".  It \n",
        "is used by `formula` below.\n",
        "\"\"\"\n",
        "\n",
        "def seq_mult(s):\n",
        "  pr = 1\n",
        "  for i in range(0, len(s)):\n",
        "    pr *= s[i]\n",
        "  return(pr)"
      ],
      "metadata": {
        "id": "q6LfmwBBCpcs"
      },
      "execution_count": 103,
      "outputs": []
    },
    {
      "cell_type": "code",
      "source": [
        "\"\"\"\n",
        "We're now ready for the function `formula` which will implement the formula \n",
        "in Theorem 5.2.  \"m\" is the number of vertices in the left branch of the \n",
        "main loop of the graph G and \"n\" is the number of vertices in the right \n",
        "branch.  \"top\" is the list of trees attached to the top vertex in G, \"bottom\" \n",
        "is the list of trees attached to the bottom vertex, \"left\" is the list of lists \n",
        "of trees attached to the left branch vertices, and \"right\" is the list of lists \n",
        "of trees attached to the right branch vertices.  The output \"phi\" is the \n",
        "order number of (G,W,theta).\n",
        "\"\"\"\n",
        "\n",
        "def formula(m, n, top, bottom, left, right):\n",
        "  from math import factorial as f\n",
        "  \n",
        "  left_trees = []\n",
        "  for p in range(0, len(left)):\n",
        "    left_trees += left[p]\n",
        "    \n",
        "  right_trees = []\n",
        "  for q in range(0, len(right)):\n",
        "    right_trees += right[q]\n",
        "  \n",
        "  all_trees = top[0] + bottom[0] + left_trees + right_trees\n",
        "  \n",
        "  seqs_01 = all_seqs(m + n, m)\n",
        "  vert_seqs = all_seqs_2(seqs_01, left, right) \n",
        "    \n",
        "  top_vert = sum(len(TP) for TP in top[0])\n",
        "     \n",
        "  w = m + n + 2 + sum([len(T) for T in all_trees])\n",
        "  \n",
        "  # `round` is used to fix the floating point precision error incurred:\n",
        "  phi = round(seq_mult([ord_num_tree(T)/f(len(T)) for T in all_trees]) * \\\n",
        "     sum([f(w - 1) * seq_mult([1/(w - (i + 1) - top_vert - \\\n",
        "                                 sum([seq[j] for j in range(0, i)])) for \\\n",
        "                              i in range(0, m + n + 1)]) for seq in vert_seqs]))\n",
        "  \n",
        "  return(phi)"
      ],
      "metadata": {
        "id": "G82EygmzOm1F"
      },
      "execution_count": 104,
      "outputs": []
    },
    {
      "cell_type": "code",
      "source": [
        "\"\"\"\n",
        "We can use `formula` to verify Example 5.3.\n",
        "\"\"\"\n",
        "\n",
        "T1 = graph_entry(5)"
      ],
      "metadata": {
        "colab": {
          "base_uri": "https://localhost:8080/"
        },
        "id": "EUvfmyLQQDH5",
        "outputId": "e1df7896-9dca-42ea-a8cf-deb9628e937c"
      },
      "execution_count": 66,
      "outputs": [
        {
          "name": "stdout",
          "output_type": "stream",
          "text": [
            "Enter row-column separated by space. Enter s to stop.2 1\n",
            "Enter row-column separated by space. Enter s to stop.3 1\n",
            "Enter row-column separated by space. Enter s to stop.4 3\n",
            "Enter row-column separated by space. Enter s to stop.5 3\n",
            "Enter row-column separated by space. Enter s to stop.s\n"
          ]
        }
      ]
    },
    {
      "cell_type": "code",
      "source": [
        "T2 = graph_entry(3)"
      ],
      "metadata": {
        "colab": {
          "base_uri": "https://localhost:8080/"
        },
        "id": "ix1Mp9s3qPsK",
        "outputId": "c4f4ee65-799e-4d24-fc84-1a44400c4ef4"
      },
      "execution_count": 54,
      "outputs": [
        {
          "name": "stdout",
          "output_type": "stream",
          "text": [
            "Enter row-column separated by space. Enter s to stop.2 1\n",
            "Enter row-column separated by space. Enter s to stop.3 1\n",
            "Enter row-column separated by space. Enter s to stop.s\n"
          ]
        }
      ]
    },
    {
      "cell_type": "code",
      "source": [
        "formula(2, 1, [[T2]], [[]], [[],[T1]], [[T1, T2]])"
      ],
      "metadata": {
        "colab": {
          "base_uri": "https://localhost:8080/"
        },
        "id": "wbsCDuWCpEsQ",
        "outputId": "7afdcd28-593a-4d64-8459-69d027b82719"
      },
      "execution_count": 98,
      "outputs": [
        {
          "output_type": "execute_result",
          "data": {
            "text/plain": [
              "2334717665280"
            ]
          },
          "metadata": {},
          "execution_count": 98
        }
      ]
    }
  ]
}