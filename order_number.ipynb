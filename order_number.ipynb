{
  "nbformat": 4,
  "nbformat_minor": 0,
  "metadata": {
    "colab": {
      "name": "order number.ipynb",
      "provenance": [],
      "collapsed_sections": []
    },
    "kernelspec": {
      "name": "python3",
      "display_name": "Python 3"
    }
  },
  "cells": [
    {
      "cell_type": "code",
      "metadata": {
        "id": "Grt5QUqcxrvB"
      },
      "source": [
        "### 6/23/19: WORKING! ###\n",
        "\n",
        "### Fully general formula\n",
        "\n",
        "def full_formula_2(m, n, top, bottom, left, right):\n",
        "  from math import factorial as f\n",
        "  \n",
        "  left_trees = []\n",
        "  for p in range(0, len(left)):\n",
        "    left_trees += left[p]\n",
        "    \n",
        "  right_trees = []\n",
        "  for q in range(0, len(right)):\n",
        "    right_trees += right[q]\n",
        "  \n",
        "  all_trees = top[0] + bottom[0] + left_trees + right_trees\n",
        "  \n",
        "  seqs_01 = all_seqs(m + n, m)\n",
        "  vert_seqs = all_seqs_2(seqs_01, left, right) \n",
        "     \n",
        "  top_vert = sum(len(TP) for TP in top[0])\n",
        "     \n",
        "  w = m + n + 2 + sum([len(T) for T in all_trees])\n",
        "  \n",
        "  phi = seq_mult([ord_num_tree(T)/f(len(T)) for T in all_trees]) * \\\n",
        "     sum([f(w - 1) * seq_mult([1/(w - (i + 1) - top_vert - \\\n",
        "                                 sum([seq[j] for j in range(0, i)])) for \\\n",
        "                              i in range(0, m + n + 1)]) for seq in vert_seqs])\n",
        "     \n",
        "  return(phi)\n",
        "\n",
        "### All of the m + n choose n sequences of m 0's and n 1's\n",
        "\n",
        "def all_seqs(m, n):\n",
        "  ab_seqs = []\n",
        "  a_seqs = delete(list(range(1, m + 1)), n, 0, [])\n",
        "  for x in a_seqs:\n",
        "    AB_list = [0]*m\n",
        "    for i in range(1, m + 1):\n",
        "      if i in x:\n",
        "        AB_list[i - 1] = 0\n",
        "      else:\n",
        "        AB_list[i - 1] = 1\n",
        "    ab_seqs += [AB_list]\n",
        "  return(ab_seqs)\n",
        "\n",
        "### Needed by all_seqs\n",
        "\n",
        "def delete(x, m, i, a_pos_seqs):\n",
        "  if len(x) == m:\n",
        "    A_list = x\n",
        "    a_pos_seqs += [A_list]\n",
        "  else:\n",
        "    for j in range(i, len(x)):\n",
        "      A_list = delete(x[0:j] + x[j + 1: len(x)], m, j, a_pos_seqs)\n",
        "  return(a_pos_seqs)\n",
        "\n",
        "### Converts a 01 sequence to a sequence of tree vertx set cardinalities\n",
        "\n",
        "def all_seqs_2(seqs_list, left, right):\n",
        "  import numpy as np\n",
        "  n = len(left) + len(right)\n",
        "  H = np.zeros((len(seqs_list), n), dtype = int)\n",
        "  for seq in seqs_list:\n",
        "    row = seqs_list.index(seq)\n",
        "    lk = 0\n",
        "    rk = 0\n",
        "    for j in range(0, len(seq)):\n",
        "      if seq[j] == 0:\n",
        "        H[row, j] = sum([len(S) for S in left[lk]])\n",
        "        lk += 1\n",
        "      else:\n",
        "        H[row, j] = sum([len(S) for S in right[rk]])\n",
        "        rk += 1\n",
        "  return(H)\n",
        "\n",
        "### Multiply the elements in a sequence.  Needed by full_formula_2.\n",
        "\n",
        "def seq_mult(s):\n",
        "  pr = 1\n",
        "  for i in range(0, len(s)):\n",
        "    pr *= s[i]\n",
        "  return(pr)\n",
        "\n",
        "### Manually enter a graph.  Useful for entering the trees.\n",
        "\n",
        "def graph_entry(n):\n",
        "  import numpy as np\n",
        "  A = np.zeros((n, n), dtype = int)\n",
        "  while True:\n",
        "    citation = input(\"Enter row-column separated by space. Enter s to stop.\")\n",
        "    if citation == 's':\n",
        "      break\n",
        "    else:\n",
        "      citation = [int(x) for x in citation.split(' ')]\n",
        "      A[citation[0] - 1, citation[1] - 1] = 1\n",
        "  return(A)\n",
        "\n",
        "### Computes the order number of any network.  Very slow.\n",
        "\n",
        "def order_number(A):\n",
        "  import numpy as np\n",
        "  count = 0\n",
        "  if np.shape(A)[0] == 1:\n",
        "    count = 1\n",
        "  else:\n",
        "    for i in range(0, np.shape(A)[0]):\n",
        "      if np.all(A[i] == 0):\n",
        "        B = np.delete(A, i, axis = 0)\n",
        "        C = np.delete(B, i, axis = 1)\n",
        "        count = count + order_number(C)\n",
        "  return count\n",
        "\n",
        "### Quickly computes the order number of any tree.  Needed by full_formula_2.\n",
        "\n",
        "def ord_num_tree(T):\n",
        "  import numpy as np\n",
        "  from math import factorial\n",
        "  n = len(T)\n",
        "  S = T\n",
        "  B = branch_nums(S)\n",
        "  for i in range(0, n):\n",
        "    for j in range(0, n):\n",
        "      if S[j, i] == 1:\n",
        "        S[j,i] = S[j,i] + np.sum(B[:, j])\n",
        "  D = np.zeros((n, n), dtype = int)\n",
        "  for k in range(0, n):\n",
        "    for l in range(0, n):\n",
        "      D[l, k] = factorial(S[l, k])\n",
        "  count = 1\n",
        "  for p in range(0, n):\n",
        "    count = count * factorial(np.sum(S[:, p])) / np.product(D[:, p])\n",
        "  return int(count)\n",
        "\n",
        "\n",
        "### Needed by ord_num_tree\n",
        "\n",
        "def branch_nums(T):\n",
        "  import numpy as np\n",
        "  from numpy.linalg import matrix_power\n",
        "  n = len(T)\n",
        "  B = np.zeros((n, n), dtype = int)\n",
        "  i = 1\n",
        "  while True:\n",
        "    B = B + matrix_power(T, i)\n",
        "    i += 1\n",
        "    if np.all(matrix_power(T, i) == np.zeros((n, n))):\n",
        "      break\n",
        "  return(B)\n",
        "\n",
        "\n",
        "### m choose n (not actually needed)\n",
        "\n",
        "def comb(m, n):\n",
        "  from math import factorial\n",
        "  if m < n:\n",
        "    answer = 0\n",
        "  else:\n",
        "    answer = int(factorial(m) / (factorial(n) * factorial(m - n)))\n",
        "  return answer"
      ],
      "execution_count": null,
      "outputs": []
    },
    {
      "cell_type": "code",
      "metadata": {
        "id": "Xn0pNhe_Wkm7"
      },
      "source": [
        "import time"
      ],
      "execution_count": null,
      "outputs": []
    },
    {
      "cell_type": "code",
      "metadata": {
        "id": "N6d_-dcYWvBK",
        "outputId": "6037714c-7877-4709-efa0-c3ed1fe9113d",
        "colab": {
          "base_uri": "https://localhost:8080/",
          "height": 340
        }
      },
      "source": [
        "G = graph_entry(15)"
      ],
      "execution_count": null,
      "outputs": [
        {
          "output_type": "stream",
          "text": [
            "Enter row-column separated by space. Enter s to stop.4 1\n",
            "Enter row-column separated by space. Enter s to stop.5 1\n",
            "Enter row-column separated by space. Enter s to stop.5 2\n",
            "Enter row-column separated by space. Enter s to stop.6 3\n",
            "Enter row-column separated by space. Enter s to stop.7 3\n",
            "Enter row-column separated by space. Enter s to stop.8 3\n",
            "Enter row-column separated by space. Enter s to stop.9 4\n",
            "Enter row-column separated by space. Enter s to stop.9 1\n",
            "Enter row-column separated by space. Enter s to stop.9 5\n",
            "Enter row-column separated by space. Enter s to stop.10 2\n",
            "Enter row-column separated by space. Enter s to stop.10 6\n",
            "Enter row-column separated by space. Enter s to stop.11 7\n",
            "Enter row-column separated by space. Enter s to stop.11 8\n",
            "Enter row-column separated by space. Enter s to stop.12 8\n",
            "Enter row-column separated by space. Enter s to stop.13 9\n",
            "Enter row-column separated by space. Enter s to stop.14 9\n",
            "Enter row-column separated by space. Enter s to stop.14 10\n",
            "Enter row-column separated by space. Enter s to stop.15 10\n",
            "Enter row-column separated by space. Enter s to stop.s\n"
          ],
          "name": "stdout"
        }
      ]
    },
    {
      "cell_type": "code",
      "metadata": {
        "id": "_XUQnRlFYVHy",
        "outputId": "37a35f00-4724-4b81-b5c5-d39f1bc618dd",
        "colab": {
          "base_uri": "https://localhost:8080/",
          "height": 272
        }
      },
      "source": [
        "print(G)"
      ],
      "execution_count": null,
      "outputs": [
        {
          "output_type": "stream",
          "text": [
            "[[0 0 0 0 0 0 0 0 0 0 0 0 0 0 0]\n",
            " [0 0 0 0 0 0 0 0 0 0 0 0 0 0 0]\n",
            " [0 0 0 0 0 0 0 0 0 0 0 0 0 0 0]\n",
            " [1 0 0 0 0 0 0 0 0 0 0 0 0 0 0]\n",
            " [1 1 0 0 0 0 0 0 0 0 0 0 0 0 0]\n",
            " [0 0 1 0 0 0 0 0 0 0 0 0 0 0 0]\n",
            " [0 0 1 0 0 0 0 0 0 0 0 0 0 0 0]\n",
            " [0 0 1 0 0 0 0 0 0 0 0 0 0 0 0]\n",
            " [1 0 0 1 1 0 0 0 0 0 0 0 0 0 0]\n",
            " [0 1 0 0 0 1 0 0 0 0 0 0 0 0 0]\n",
            " [0 0 0 0 0 0 1 1 0 0 0 0 0 0 0]\n",
            " [0 0 0 0 0 0 0 1 0 0 0 0 0 0 0]\n",
            " [0 0 0 0 0 0 0 0 1 0 0 0 0 0 0]\n",
            " [0 0 0 0 0 0 0 0 1 1 0 0 0 0 0]\n",
            " [0 0 0 0 0 0 0 0 0 1 0 0 0 0 0]]\n"
          ],
          "name": "stdout"
        }
      ]
    },
    {
      "cell_type": "code",
      "metadata": {
        "id": "2tQP9XvAWmGF",
        "outputId": "20511838-495e-47e5-a4d8-29dc8840756d",
        "colab": {
          "base_uri": "https://localhost:8080/",
          "height": 51
        }
      },
      "source": [
        "start = time.clock()\n",
        "p = order_number(G)\n",
        "print(time.clock() - start, \"seconds\")\n",
        "print(p)"
      ],
      "execution_count": null,
      "outputs": [
        {
          "output_type": "stream",
          "text": [
            "348.5528559999998 seconds\n",
            "8241100\n"
          ],
          "name": "stdout"
        }
      ]
    },
    {
      "cell_type": "code",
      "metadata": {
        "id": "LiKjhe3cjixG",
        "outputId": "a7f7784f-bffd-48e0-c66c-688b315cfa95",
        "colab": {
          "base_uri": "https://localhost:8080/",
          "height": 34
        }
      },
      "source": [
        "348.55/60"
      ],
      "execution_count": null,
      "outputs": [
        {
          "output_type": "execute_result",
          "data": {
            "text/plain": [
              "5.809166666666667"
            ]
          },
          "metadata": {
            "tags": []
          },
          "execution_count": 15
        }
      ]
    },
    {
      "cell_type": "code",
      "metadata": {
        "id": "HhbLkUvUBnJ4",
        "outputId": "3e2755d5-0c8d-4610-9130-b61a60ef2598",
        "colab": {
          "base_uri": "https://localhost:8080/",
          "height": 68
        }
      },
      "source": [
        "T1 = graph_entry(3)"
      ],
      "execution_count": null,
      "outputs": [
        {
          "output_type": "stream",
          "text": [
            "Enter row-column separated by space. Enter s to stop.2 1\n",
            "Enter row-column separated by space. Enter s to stop.3 1\n",
            "Enter row-column separated by space. Enter s to stop.s\n"
          ],
          "name": "stdout"
        }
      ]
    },
    {
      "cell_type": "code",
      "metadata": {
        "id": "jcNw9xiN2T1p",
        "colab": {
          "base_uri": "https://localhost:8080/",
          "height": 102
        },
        "outputId": "d4bda9cf-3a5f-4f57-eb9d-b5558497bdb4"
      },
      "source": [
        "T_2 = graph_entry(5)"
      ],
      "execution_count": null,
      "outputs": [
        {
          "output_type": "stream",
          "text": [
            "Enter row-column separated by space. Enter s to stop.2 1\n",
            "Enter row-column separated by space. Enter s to stop.3 1\n",
            "Enter row-column separated by space. Enter s to stop.4 3\n",
            "Enter row-column separated by space. Enter s to stop.5 3\n",
            "Enter row-column separated by space. Enter s to stop.s\n"
          ],
          "name": "stdout"
        }
      ]
    },
    {
      "cell_type": "code",
      "metadata": {
        "id": "h4xT4mtGK05L",
        "outputId": "49adf842-ff2e-43f7-953c-990d4bea4668",
        "colab": {
          "base_uri": "https://localhost:8080/",
          "height": 34
        }
      },
      "source": [
        "full_formula_2(2, 1, [[T1]], [[]], [[],[T_2]], [[T1, T_2]])"
      ],
      "execution_count": null,
      "outputs": [
        {
          "output_type": "execute_result",
          "data": {
            "text/plain": [
              "2334717665279.9995"
            ]
          },
          "metadata": {
            "tags": []
          },
          "execution_count": 6
        }
      ]
    },
    {
      "cell_type": "code",
      "metadata": {
        "id": "6lDO1g3eE3JY"
      },
      "source": [
        "################################################################################\n",
        "################################################################################"
      ],
      "execution_count": null,
      "outputs": []
    },
    {
      "cell_type": "code",
      "metadata": {
        "id": "lc5XJ0zRE9Fc"
      },
      "source": [
        "# Not needed.\n",
        "\n",
        "def seq_read(AB, left_connect, right_connect, left_vert, right_vert):\n",
        "  l_count = 0\n",
        "  r_count = 0\n",
        "  j = 0\n",
        "  LR_seq = [0]*(len(left_connect) + len(right_connect))\n",
        "  spot_seq = [0]*(len(left_connect) + len(right_connect))\n",
        "  for i in range(0, len(AB)):\n",
        "    if AB[i] == 'a':\n",
        "      l_count += 1\n",
        "    else:\n",
        "      r_count += 1\n",
        "    if l_count in left_connect:\n",
        "      spot_seq[j] = i + 1\n",
        "      LR_seq[j] = left_vert[0]\n",
        "      left_vert = left_vert[1:]\n",
        "      left_connect = left_connect[1:]\n",
        "      j += 1\n",
        "    if r_count in right_connect:\n",
        "      spot_seq[j] = i + 1\n",
        "      LR_seq[j] = right_vert[0]\n",
        "      right_vert = right_vert[1:]\n",
        "      right_connect = right_connect[1:]\n",
        "      j += 1\n",
        "  return(spot_seq, LR_seq)"
      ],
      "execution_count": null,
      "outputs": []
    },
    {
      "cell_type": "code",
      "metadata": {
        "id": "J8A3zZu3h7Ud"
      },
      "source": [
        "# Not needed.\n",
        "\n",
        "def full_formula(m, n, left_trees, right_trees, left_connect, right_connect):\n",
        "  \n",
        "  from math import factorial as f\n",
        "  \n",
        "  left_vert = [len(LT) for LT in left_trees]\n",
        "  right_vert = [len(RT) for RT in right_trees]\n",
        "  vl = sum(lv for lv in left_vert)\n",
        "  vr = sum(rv for rv in right_vert)\n",
        "  w = m + n + 1 + vl + vr\n",
        "  \n",
        "  seqs = all_seqs(m, n)\n",
        "  \n",
        "  combs = 0\n",
        "  \n",
        "  for AB_list in seqs:\n",
        "    spot_seq, LR_seq = seq_read(AB_list, left_connect, right_connect, left_vert, right_vert)\n",
        "    data = list(zip(spot_seq, LR_seq))\n",
        "    prod = f(w - data[0][0])/np.prod([f(v) for v in LR_seq])\n",
        "    for pair in data[1:]:\n",
        "      i = data.index(pair)\n",
        "      prod *= f(m + n + 1 + sum(LR_seq[i:]) - pair[0])\n",
        "    combs += prod\n",
        "    \n",
        "  phi_trees = [ord_num_tree(T) for T in left_trees + right_trees]\n",
        "  \n",
        "  phi = np.prod(phi_trees) * combs\n",
        "  \n",
        "  return(combs)"
      ],
      "execution_count": null,
      "outputs": []
    },
    {
      "cell_type": "code",
      "metadata": {
        "id": "P6qhVtSl11Cz"
      },
      "source": [
        "# Enter the incidence matrix for an n-vertex graph.\n",
        "\n",
        "def graph_entry(n):\n",
        "  import numpy as np\n",
        "  A = np.zeros((n, n), dtype = int)\n",
        "  while True:\n",
        "    citation = input(\"Enter row-column separated by space. Enter s to stop.\")\n",
        "    if citation == 's':\n",
        "      break\n",
        "    else:\n",
        "      citation = [int(x) for x in citation.split(' ')]\n",
        "      A[citation[0] - 1, citation[1] - 1] = 1\n",
        "  return(A)\n",
        "\n",
        "\n",
        "# Check that 'formula' computes the correct value.\n",
        "\n",
        "def compare2(T, m, n, i):\n",
        "  A = build(T, m, n, i)\n",
        "  return order_number(A) == formula(T, m, n, i)\n",
        "\n",
        "\n",
        "# Build the DAG with center loop L(m, n), left trees connecting at the\n",
        "# entries of left_connect, and right trees connecting at the entries of\n",
        "# right_connect.\n",
        "\n",
        "def build(left_trees, right_trees, m, n, left_connect, right_connect):\n",
        "  \n",
        "  import numpy as np\n",
        "  \n",
        "  left = list(zip(left_trees, left_connect))\n",
        "  right = list(zip(right_trees, right_connect))\n",
        "  \n",
        "  left_v = [0]*(len(left))\n",
        "  right_v = [0]*(len(right))\n",
        "  \n",
        "  for i in range(0, len(left_v)):\n",
        "    left_v[i] = len(left_trees[i])\n",
        "  \n",
        "  for i in range(0, len(right_v)):\n",
        "    right_v[i] = len(right_trees[i])\n",
        "    \n",
        "  v = sum(left_v) + sum(right_v)\n",
        "  \n",
        "  A = np.zeros((v + m + n + 2, v + m + n + 2), dtype = int)\n",
        "  start = 0\n",
        "  \n",
        "  for T, c in left:\n",
        "    A[start : start + len(T), start : start + len(T)] = T\n",
        "    A[start, v + c] = 1\n",
        "    start += len(T)\n",
        "    \n",
        "  for T, c in right:\n",
        "    A[start : start + len(T), start : start + len(T)] = T\n",
        "    A[start, v + m + c] = 1\n",
        "    start += len(T)\n",
        "    \n",
        "  for i in range(0, m):\n",
        "    A[v + 1 + i, v + i] = 1\n",
        "  A[v + m + 1, v] = 1\n",
        "  for j in range(1, n + 1):\n",
        "    A[v + m + 1 + j, v + m + j] = 1\n",
        "  A[v + m + n + 1, v + m] = 1\n",
        "  return (A)\n",
        "\n",
        "\n",
        "# Computes the order number of any DAG, but is very slow once the number of vertices gets near 20.\n",
        "\n",
        "def order_number(A):\n",
        "  import numpy as np\n",
        "  count = 0\n",
        "  if np.shape(A)[0] == 1:\n",
        "    count = 1\n",
        "  else:\n",
        "    for i in range(0, np.shape(A)[0]):\n",
        "      if np.all(A[i] == 0):\n",
        "        B = np.delete(A, i, axis = 0)\n",
        "        C = np.delete(B, i, axis = 1)\n",
        "        count = count + order_number(C)\n",
        "  return count\n",
        "\n",
        "\n",
        "# Formula for computing the order number of T*(m, n, i).\n",
        "\n",
        "def formula(T, m, n, i):\n",
        "  phi = ord_num_tree(T)\n",
        "  v = len(T)\n",
        "  return phi*(comb(v + m - i + 1, v) * sum(comb(n + i - j - 1, i - j) for j in range(1, i + 1)) +\n",
        "         sum(comb(n + i - k - 1, n - k) * comb(m - i + k, m - i) * comb(v + m - i + k + 1, v) for k in range(1, n + 1)))\n",
        "\n",
        "\n",
        "# Order number of trees.\n",
        "\n",
        "def ord_num_tree(T):\n",
        "  import numpy as np\n",
        "  from math import factorial\n",
        "  n = len(T)\n",
        "  S = T\n",
        "  B = branch_nums(S)\n",
        "  for i in range(0, n):\n",
        "    for j in range(0, n):\n",
        "      if S[j, i] == 1:\n",
        "        S[j,i] = S[j,i] + np.sum(B[:, j])\n",
        "  D = np.zeros((n, n), dtype = int)\n",
        "  for k in range(0, n):\n",
        "    for l in range(0, n):\n",
        "      D[l, k] = factorial(S[l, k])\n",
        "  count = 1\n",
        "  for p in range(0, n):\n",
        "    count = count * factorial(np.sum(S[:, p])) / np.product(D[:, p])\n",
        "  return int(count)\n",
        "\n",
        "\n",
        "# Needed by ord_num_tree\n",
        "\n",
        "def branch_nums(T):\n",
        "  import numpy as np\n",
        "  from numpy.linalg import matrix_power\n",
        "  n = len(T)\n",
        "  B = np.zeros((n, n), dtype = int)\n",
        "  i = 1\n",
        "  while True:\n",
        "    B = B + matrix_power(T, i)\n",
        "    i += 1\n",
        "    if np.all(matrix_power(T, i) == np.zeros((n, n))):\n",
        "      break\n",
        "  return(B)\n",
        "\n",
        "\n",
        "# m choose n\n",
        "\n",
        "def comb(m, n):\n",
        "  from math import factorial\n",
        "  if m < n:\n",
        "    answer = 0\n",
        "  else:\n",
        "    answer = int(factorial(m) / (factorial(n) * factorial(m - n)))\n",
        "  return answer\n",
        "\n",
        "\n",
        "# Order number for L(m, n) with trees hanging off.\n",
        "\n",
        "def loop_with_trees(m, n, left_trees, right_trees, left_connect, right_connect):\n",
        "  \n",
        "  left_empty = False\n",
        "  if left_trees == []:\n",
        "    left_empty = True\n",
        "  right_empty = False\n",
        "  if right_trees == []:\n",
        "    right_empty = True\n",
        "  \n",
        "  if left_empty and right_empty:\n",
        "    phi = comb(m + n, n)\n",
        "  \n",
        "  else:\n",
        "    if not left_empty:\n",
        "      phi_L1 = ord_num_tree(left_trees[0])\n",
        "      l1 = left_connect[0]\n",
        "      v_l1 = len(left_trees[0])\n",
        "    else:\n",
        "      phi_L1 = 0\n",
        "      l1 = m + 1\n",
        "      v_l1 = 0\n",
        "      \n",
        "    if not right_empty:\n",
        "      phi_R1 = ord_num_tree(right_trees[0])\n",
        "      r1 = right_connect[0]\n",
        "      v_r1 = len(right_trees[0])\n",
        "    else:\n",
        "      phi_R1 = 0\n",
        "      r1 = n + 1\n",
        "      v_r1 = 0\n",
        "      \n",
        "    v = sum(len(L) for L in left_trees) + sum(len(R) for R in right_trees)\n",
        "    \n",
        "    print(phi_L1, l1, v_l1, phi_R1, r1, v_r1)\n",
        "    print(v)\n",
        "   \n",
        "    phi = phi_L1 * sum(comb(l1 + k - 2, k - 1) * comb(v + m - l1 + n - k + 2, v_l1) *\n",
        "                      loop_with_trees(m - l1, n - k + 1, left_trees[1:], right_trees, \n",
        "                                     [l - l1 for l in left_connect][1:], \n",
        "                                     [r - k + 1 for r in right_connect]) \n",
        "                       for k in range(1, r1 + 1)) + \\\n",
        "          phi_R1 * sum(comb(r1 + k - 2, k - 1) * comb(v + m - r1 + n - k + 2, v_r1) *\n",
        "                      loop_with_trees(m - k + 1, n - r1, left_trees, right_trees[1:],\n",
        "                                     [l - k + 1 for l in left_connect],\n",
        "                                     [r - r1 for r in right_connect][1:])\n",
        "                       for k in range(1, l1 + 1))\n",
        "      \n",
        "  return phi\n",
        "    "
      ],
      "execution_count": null,
      "outputs": []
    },
    {
      "cell_type": "code",
      "metadata": {
        "id": "zM3VwrhI22QL"
      },
      "source": [
        "################################################################################\n",
        "################################################################################"
      ],
      "execution_count": null,
      "outputs": []
    },
    {
      "cell_type": "code",
      "metadata": {
        "id": "KO0dhFDR0db_"
      },
      "source": [
        "T = graph_entry(5)"
      ],
      "execution_count": null,
      "outputs": []
    },
    {
      "cell_type": "code",
      "metadata": {
        "id": "XvxB-KIUKyfm"
      },
      "source": [
        "# AGREES! (This is ([T, T], 3, 2, 2, 3))\n",
        "\n",
        "8*formula(T, 1, 2, 1)*comb(14,5) + 2*(8*formula(T, 1, 1, 1)*comb(13,5)) + 8*48*comb(12,5) + 2*8*48*comb(12,5)"
      ],
      "execution_count": null,
      "outputs": []
    },
    {
      "cell_type": "code",
      "metadata": {
        "id": "SSeVHXeYRbUD"
      },
      "source": [
        "import time\n",
        "start = time.clock()\n",
        "###\n",
        "print(time.clock() - start, \"seconds\")"
      ],
      "execution_count": null,
      "outputs": []
    },
    {
      "cell_type": "code",
      "metadata": {
        "id": "4GNpWG932rMK"
      },
      "source": [
        "compare2(T, 1, 2, 1)"
      ],
      "execution_count": null,
      "outputs": []
    },
    {
      "cell_type": "code",
      "metadata": {
        "id": "gtj8Vs8O2z-0"
      },
      "source": [
        "for q in range(1, 6):\n",
        "  for r in range(1, 6):\n",
        "    for s in range(1, q + 1):\n",
        "      print(q, \", \", r, \", \", s, \":\", compare2(T, q, r, s))"
      ],
      "execution_count": null,
      "outputs": []
    },
    {
      "cell_type": "code",
      "metadata": {
        "id": "Sk11I30-1m_h"
      },
      "source": [
        "################################################################################\n",
        "################################################################################"
      ],
      "execution_count": null,
      "outputs": []
    },
    {
      "cell_type": "code",
      "metadata": {
        "id": "r_LnVFg980m2"
      },
      "source": [
        "# Returns entire list of component triples in decomposition.\n",
        "\n",
        "def split(indices):\n",
        "  from operator import add\n",
        "  split_list = []\n",
        "  for i in range(0, len(indices)):\n",
        "    if 0 in indices[i]:\n",
        "      split_list = split_list + [indices[i]]\n",
        "    else:\n",
        "      split_list = split_list + split([list(map(add, indices[i], [-1, 0, -1])), list(map(add, indices[i], [0, -1, 0]))])\n",
        "  return split_list"
      ],
      "execution_count": null,
      "outputs": []
    },
    {
      "cell_type": "code",
      "metadata": {
        "id": "r0tAoFXmFRNz"
      },
      "source": [
        "# Formula for counting all component triples.\n",
        "\n",
        "def formula(indices):\n",
        "  from math import factorial\n",
        "  n = indices[0][1]\n",
        "  i = indices[0][2]\n",
        "  return int(factorial(n + i)/(factorial(n)*factorial(i)))"
      ],
      "execution_count": null,
      "outputs": []
    },
    {
      "cell_type": "code",
      "metadata": {
        "id": "b5xMEajyGmqz"
      },
      "source": [
        "# Checks whether formula agrees with actual number of triples.\n",
        "\n",
        "def compare(indices):\n",
        "  return len(split(indices)) == formula(indices)"
      ],
      "execution_count": null,
      "outputs": []
    }
  ]
}